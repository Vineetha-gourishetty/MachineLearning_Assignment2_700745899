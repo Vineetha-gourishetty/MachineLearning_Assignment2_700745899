{
 "cells": [
  {
   "cell_type": "code",
   "execution_count": 15,
   "id": "9d2cfe49",
   "metadata": {},
   "outputs": [
    {
     "name": "stdout",
     "output_type": "stream",
     "text": [
      "* \n",
      "* * \n",
      "* * * \n",
      "* * * * \n",
      "* * * * * \n",
      "* * * *  \n",
      "* * *  \n",
      "* *  \n",
      "*  \n",
      " \n"
     ]
    }
   ],
   "source": [
    "###1. Use a python code to display the following star pattern using the for loop\n",
    "\n",
    "x = range(0, 5, 1)\n",
    "\n",
    "for n in x:\n",
    "  for j in range(0,n+1,1):\n",
    "    print('*',end=' ')\n",
    "  print('')\n",
    "\n",
    "for i in range(4 + 1, 0, -1):    \n",
    "  for j in range(0, i - 1):  \n",
    "    print(\"*\", end=' ')  \n",
    "  print(\" \")  "
   ]
  },
  {
   "cell_type": "code",
   "execution_count": 27,
   "id": "a1f3ecad",
   "metadata": {},
   "outputs": [
    {
     "name": "stdout",
     "output_type": "stream",
     "text": [
      "10\n",
      "30\n",
      "50\n",
      "70\n",
      "90\n"
     ]
    }
   ],
   "source": [
    "##2. Use looping to output the elements from a provided list present at odd indexes.\n",
    "my_list = [10, 20, 30, 40, 50, 60, 70, 80, 90, 100]\n",
    "\n",
    "for num in range(0,10,2):\n",
    "  print(my_list[num])"
   ]
  },
  {
   "cell_type": "code",
   "execution_count": 29,
   "id": "71fa812d",
   "metadata": {},
   "outputs": [
    {
     "name": "stdout",
     "output_type": "stream",
     "text": [
      "[23, 'Python', 23.98]\n",
      "[<class 'int'>, <class 'str'>, <class 'float'>]\n"
     ]
    }
   ],
   "source": [
    "##3. Write a code that appends the type of elements from a given list.\n",
    "##Input x = [23, ‘Python’, 23.98]\n",
    "## Expected output\n",
    "#[23, 'Python', 23.98]\n",
    "#[<class 'int'>, <class 'str'>, <class 'float'>]\n",
    "\n",
    "x = [23,'Python', 23.98]\n",
    "print(x)\n",
    "list_of_types=[]\n",
    "for ele in x:\n",
    "  list_of_types.append(type(ele))\n",
    "print(list_of_types)\n"
   ]
  },
  {
   "cell_type": "code",
   "execution_count": 34,
   "id": "487bab54",
   "metadata": {},
   "outputs": [
    {
     "name": "stdout",
     "output_type": "stream",
     "text": [
      "Unique List from the Sample list provided is: [1, 2, 3, 4, 5]\n"
     ]
    }
   ],
   "source": [
    "##4. Write a function that takes a list and returns a new list with unique items of the first list.\n",
    "##Sample List: [1,2,3,3,3,3,4,5]\n",
    "##Unique List: [1, 2, 3, 4, 5]\n",
    "\n",
    "SampleList = [1,2,3,3,3,3,4,5]\n",
    "\n",
    "def UniqueList(SampleList):\n",
    "  Unique_List = list(set(SampleList))\n",
    "  print('Unique List from the Sample list provided is:',Unique_List)\n",
    "    \n",
    "UniqueList(SampleList)\n",
    "    \n"
   ]
  },
  {
   "cell_type": "code",
   "execution_count": 36,
   "id": "05beedf8",
   "metadata": {},
   "outputs": [
    {
     "name": "stdout",
     "output_type": "stream",
     "text": [
      "No. Uppper-case characters: 3\n",
      "No. Lower-case characters: 12\n"
     ]
    }
   ],
   "source": [
    "##5. Write a function that accepts a string and calculate the number of upper-case letters and lower-case letters.\n",
    "#Input String: 'The quick Brow Fox'\n",
    "##Expected Output:\n",
    "#No. of Upper-case characters: 3\n",
    "#No. of Lower-case Characters: 12\n",
    "\n",
    "s= 'The quick Brow Fox'\n",
    "upperCase_count=0\n",
    "lowerCase_count=0\n",
    "for i in s:\n",
    "  if i.isupper():\n",
    "    upperCase_count+=1\n",
    "  elif i.islower():\n",
    "    lowerCase_count+=1\n",
    "print('No. Uppper-case characters:',upperCase_count)\n",
    "print('No. Lower-case characters:',lowerCase_count)"
   ]
  },
  {
   "cell_type": "code",
   "execution_count": null,
   "id": "3304911f",
   "metadata": {},
   "outputs": [],
   "source": []
  }
 ],
 "metadata": {
  "kernelspec": {
   "display_name": "Python 3 (ipykernel)",
   "language": "python",
   "name": "python3"
  },
  "language_info": {
   "codemirror_mode": {
    "name": "ipython",
    "version": 3
   },
   "file_extension": ".py",
   "mimetype": "text/x-python",
   "name": "python",
   "nbconvert_exporter": "python",
   "pygments_lexer": "ipython3",
   "version": "3.9.12"
  }
 },
 "nbformat": 4,
 "nbformat_minor": 5
}
